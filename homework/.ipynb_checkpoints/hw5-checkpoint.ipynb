{
 "cells": [
  {
   "cell_type": "markdown",
   "metadata": {
    "id": "oef8c2jr-PZY"
   },
   "source": [
    "作業目標<br>\n",
    "計算有缺失值的資料，統計量實作<br>\n",
    "作業重點<br>\n",
    "當遇到缺失值有函式可以處理，不須額外寫程式刪除<br>\n",
    "計算統計量時不能出現缺失值"
   ]
  },
  {
   "cell_type": "markdown",
   "metadata": {
    "id": "4YgL8NF4-Ru3"
   },
   "source": [
    "題目:<br>\n",
    "english_score = np.array([55,89,76,65,48,70])<br>\n",
    "math_score = np.array([60,85,60,68,np.nan,60])<br>\n",
    "chinese_score = np.array([65,90,82,72,66,77])<br>\n",
    "上3列共六位同學的英文、數學、國文成績，第一個元素代表第一位同學，舉例第一位同學英文55分、數學60分、國文65分，今天第五位同學因某原因沒來考試，導致數學成績缺值，運用上列數據回答下列問題。<br>\n",
    "1. 請計算各科成績平均、最大值、最小值、標準差，其中數學缺一筆資料可忽略?\n",
    "2. 第五位同學補考數學後成績為55，請計算補考後數學成績平均、最大值、最小值、標準差?\n",
    "3. 用補考後資料找出與國文成績相關係數最高的學科?"
   ]
  },
  {
   "cell_type": "code",
   "execution_count": 3,
   "metadata": {
    "executionInfo": {
     "elapsed": 1005,
     "status": "ok",
     "timestamp": 1609854567262,
     "user": {
      "displayName": "献竤黃",
      "photoUrl": "",
      "userId": "07529243043474362942"
     },
     "user_tz": -480
    },
    "id": "K3tUA6u9aI3N"
   },
   "outputs": [],
   "source": [
    "#1. 請計算各科成績平均、最大值、最小值、標準差，其中數學缺一筆資料可忽略?"
   ]
  },
  {
   "cell_type": "code",
   "execution_count": 4,
   "metadata": {
    "executionInfo": {
     "elapsed": 996,
     "status": "ok",
     "timestamp": 1609854567262,
     "user": {
      "displayName": "献竤黃",
      "photoUrl": "",
      "userId": "07529243043474362942"
     },
     "user_tz": -480
    },
    "id": "mXjDzvSrbLlf"
   },
   "outputs": [],
   "source": [
    "#2. 第五位同學補考數學後成績為55，請計算補考後數學成績平均、最大值、最小值、標準差?"
   ]
  },
  {
   "cell_type": "code",
   "execution_count": 5,
   "metadata": {
    "executionInfo": {
     "elapsed": 989,
     "status": "ok",
     "timestamp": 1609854567264,
     "user": {
      "displayName": "献竤黃",
      "photoUrl": "",
      "userId": "07529243043474362942"
     },
     "user_tz": -480
    },
    "id": "SaGolKx0cKoU"
   },
   "outputs": [],
   "source": [
    "#3. 用補考後資料找出與國文成績相關係數最高的學科?"
   ]
  },
  {
   "cell_type": "code",
   "execution_count": 26,
   "metadata": {
    "executionInfo": {
     "elapsed": 987,
     "status": "ok",
     "timestamp": 1609854567264,
     "user": {
      "displayName": "献竤黃",
      "photoUrl": "",
      "userId": "07529243043474362942"
     },
     "user_tz": -480
    },
    "id": "fTNlLZ9Pzyiy"
   },
   "outputs": [
    {
     "name": "stdout",
     "output_type": "stream",
     "text": [
      "#1 英文平均、最大值、最小值、標準差 :  67.16666666666667 89 48 13.433995020924426\n",
      "#1 數學平均、最大值、最小值、標準差 :  66.6 85.0 60.0 9.707728879609279\n",
      "#1 國文平均、最大值、最小值、標準差 :  75.33333333333333 90 65 8.825468196582484\n",
      "#2 數學平均、最大值、最小值、標準差 :  64.66666666666667 85 55 9.860132971832694\n",
      "#3 : 英文\n"
     ]
    }
   ],
   "source": [
    "import numpy as np\n",
    "english_score = np.array([55,89,76,65,48,70])\n",
    "math_score = np.array([60,85,60,68,np.nan,60])\n",
    "chinese_score = np.array([65,90,82,72,66,77])\n",
    "e_mean = np.mean(english_score)\n",
    "m_mean = np.nanmean(math_score)\n",
    "c_mean = np.mean(chinese_score)\n",
    "e_max = np.max(english_score)\n",
    "m_max = np.nanmax(math_score)\n",
    "c_max = np.max(chinese_score)\n",
    "e_min = np.min(english_score)\n",
    "m_min = np.nanmin(math_score)\n",
    "c_min = np.min(chinese_score)\n",
    "e_std = np.std(english_score)\n",
    "m_std = np.nanstd(math_score)\n",
    "c_std = np.std(chinese_score)\n",
    "print(\"#1 英文平均、最大值、最小值、標準差 : \",e_mean,e_max,e_min,e_std)\n",
    "print(\"#1 數學平均、最大值、最小值、標準差 : \",m_mean,m_max,m_min,m_std)\n",
    "print(\"#1 國文平均、最大值、最小值、標準差 : \",c_mean,c_max,c_min,c_std)\n",
    "math_score = np.array([60,85,60,68,55,60])\n",
    "m_mean = np.mean(math_score)\n",
    "m_max = np.max(math_score)\n",
    "m_min = np.min(math_score)\n",
    "m_std = np.std(math_score)\n",
    "print(\"#2 數學平均、最大值、最小值、標準差 : \",m_mean,m_max,m_min,m_std)\n",
    "c_e_cor = np.corrcoef(chinese_score,english_score)\n",
    "c_m_cor = np.corrcoef(chinese_score,math_score)\n",
    "if np.greater(np.sum(c_e_cor),np.sum(c_m_cor)):\n",
    "    print(\"#3 : 英文\") \n",
    "else:\n",
    "    print(\"#3 : 數學\")"
   ]
  },
  {
   "cell_type": "code",
   "execution_count": null,
   "metadata": {},
   "outputs": [],
   "source": []
  }
 ],
 "metadata": {
  "colab": {
   "authorship_tag": "ABX9TyPtywwDR7TsGGEOMGYLDT5h",
   "collapsed_sections": [],
   "name": "作業Hong題目.ipynb",
   "provenance": []
  },
  "kernelspec": {
   "display_name": "Python 3",
   "language": "python",
   "name": "python3"
  },
  "language_info": {
   "codemirror_mode": {
    "name": "ipython",
    "version": 3
   },
   "file_extension": ".py",
   "mimetype": "text/x-python",
   "name": "python",
   "nbconvert_exporter": "python",
   "pygments_lexer": "ipython3",
   "version": "3.8.5"
  }
 },
 "nbformat": 4,
 "nbformat_minor": 1
}
